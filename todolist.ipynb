{
 "cells": [
  {
   "cell_type": "code",
   "execution_count": 3,
   "metadata": {},
   "outputs": [],
   "source": [
    "import tkinter\n",
    "import tkinter.messagebox\n",
    "import pickle\n",
    "\n",
    "root = tkinter.Tk()\n",
    "root.title(\"To-Do List by @TokyoEdtech\")\n",
    "\n",
    "def add_task():\n",
    "    task = entry_task.get()\n",
    "    if task != \"\":\n",
    "        listbox_tasks.insert(tkinter.END, task)\n",
    "        entry_task.delete(0, tkinter.END)\n",
    "    else:\n",
    "        tkinter.messagebox.showwarning(title=\"Warning!\", message=\"You must enter a task.\")\n",
    "\n",
    "def delete_task():\n",
    "    try:\n",
    "        task_index = listbox_tasks.curselection()[0]\n",
    "        listbox_tasks.delete(task_index)\n",
    "    except:\n",
    "        tkinter.messagebox.showwarning(title=\"Warning!\", message=\"You must select a task.\")\n",
    "\n",
    "def load_tasks():\n",
    "    try:\n",
    "        tasks = pickle.load(open(\"tasks.dat\", \"rb\"))\n",
    "        listbox_tasks.delete(0, tkinter.END)\n",
    "        for task in tasks:\n",
    "            listbox_tasks.insert(tkinter.END, task)\n",
    "    except:\n",
    "        tkinter.messagebox.showwarning(title=\"Warning!\", message=\"Cannot find tasks.dat.\")\n",
    "\n",
    "def save_tasks():\n",
    "    tasks = listbox_tasks.get(0, listbox_tasks.size())\n",
    "    pickle.dump(tasks, open(\"tasks.dat\", \"wb\"))\n",
    "\n",
    "# Create GUI\n",
    "frame_tasks = tkinter.Frame(root)\n",
    "frame_tasks.pack()\n",
    "\n",
    "listbox_tasks = tkinter.Listbox(frame_tasks, height=10, width=50)\n",
    "listbox_tasks.pack(side=tkinter.LEFT)\n",
    "\n",
    "scrollbar_tasks = tkinter.Scrollbar(frame_tasks)\n",
    "scrollbar_tasks.pack(side=tkinter.RIGHT, fill=tkinter.Y)\n",
    "\n",
    "listbox_tasks.config(yscrollcommand=scrollbar_tasks.set)\n",
    "scrollbar_tasks.config(command=listbox_tasks.yview)\n",
    "\n",
    "entry_task = tkinter.Entry(root, width=50)\n",
    "entry_task.pack()\n",
    "\n",
    "button_add_task = tkinter.Button(root, text=\"Add task\", width=48, command=add_task)\n",
    "button_add_task.pack()\n",
    "\n",
    "button_delete_task = tkinter.Button(root, text=\"Delete task\", width=48, command=delete_task)\n",
    "button_delete_task.pack()\n",
    "\n",
    "root.mainloop()"
   ]
  }
 ],
 "metadata": {
  "interpreter": {
   "hash": "5c0372ed38b372118c24adb00d45654d76c8d10261533c5724e3f5fc1d75489a"
  },
  "kernelspec": {
   "display_name": "Python 3.8.9 64-bit",
   "language": "python",
   "name": "python3"
  },
  "language_info": {
   "codemirror_mode": {
    "name": "ipython",
    "version": 3
   },
   "file_extension": ".py",
   "mimetype": "text/x-python",
   "name": "python",
   "nbconvert_exporter": "python",
   "pygments_lexer": "ipython3",
   "version": "3.8.9"
  },
  "orig_nbformat": 4
 },
 "nbformat": 4,
 "nbformat_minor": 2
}
